{
 "cells": [
  {
   "cell_type": "markdown",
   "metadata": {},
   "source": [
    "# Lab 5 - Cross-Validation for Model Selection"
   ]
  },
  {
   "cell_type": "markdown",
   "metadata": {},
   "source": [
    "#### Cross-validation on nine polynomial models, ranging from degree 0 to 8."
   ]
  },
  {
   "cell_type": "code",
   "execution_count": 49,
   "metadata": {},
   "outputs": [],
   "source": [
    "import numpy as np\n",
    "import pandas as pd\n",
    "from sklearn.datasets import load_diabetes\n",
    "from sklearn.model_selection import cross_val_score\n",
    "from sklearn.linear_model import LinearRegression\n",
    "from sklearn.preprocessing import PolynomialFeatures"
   ]
  },
  {
   "cell_type": "code",
   "execution_count": 50,
   "metadata": {},
   "outputs": [],
   "source": [
    "# Load the diabetes dataset\n",
    "diabetes = load_diabetes()\n",
    "\n",
    "# Get features and target\n",
    "X = diabetes.data\n",
    "y = diabetes.target"
   ]
  },
  {
   "cell_type": "code",
   "execution_count": 51,
   "metadata": {},
   "outputs": [],
   "source": [
    "results = []\n",
    "\n",
    "for degree in range(9):\n",
    "    # Create polynomial features up to the specified degree\n",
    "    polynomial_features = PolynomialFeatures(degree=degree)\n",
    "    X_poly = polynomial_features.fit_transform(X)\n",
    "\n",
    "    model = LinearRegression()\n",
    "\n",
    "    # Perform cross-validation and calculate the mean absolute error\n",
    "    scores = cross_val_score(model, X_poly, y, scoring='neg_mean_absolute_error', cv=5)\n",
    "    results.append((degree, -1 * scores.mean()))"
   ]
  },
  {
   "cell_type": "markdown",
   "metadata": {},
   "source": [
    "#### Construct a table summarizing the cross-validation results."
   ]
  },
  {
   "cell_type": "code",
   "execution_count": 52,
   "metadata": {},
   "outputs": [],
   "source": [
    "df = pd.DataFrame(results, columns=['Degree', 'MAE'])\n",
    "df['R-Squared'] = np.nan\n",
    "df['MAPE'] = np.nan\n",
    "\n",
    "for index, row in df.iterrows():\n",
    "    degree = int(row['Degree'])\n",
    "\n",
    "    # Create polynomial features based on the degree\n",
    "    polynomial_features = PolynomialFeatures(degree=degree)\n",
    "    X_poly = polynomial_features.fit_transform(X)\n",
    "\n",
    "    model = LinearRegression()\n",
    "\n",
    "    # Perform cross-validation and calculate R-squared and MAPE scores\n",
    "    r2_scores = cross_val_score(model, X_poly, y, scoring='r2', cv=5)\n",
    "    mape_scores = cross_val_score(model, X_poly, y, scoring='neg_mean_absolute_percentage_error', cv=5)\n",
    "\n",
    "    # Update the dataframe with R-squared and MAPE values\n",
    "    df.loc[index, 'R-Squared'] = r2_scores.mean()\n",
    "    df.loc[index, 'MAPE'] = -1 * mape_scores.mean()"
   ]
  },
  {
   "cell_type": "code",
   "execution_count": 53,
   "metadata": {},
   "outputs": [
    {
     "name": "stdout",
     "output_type": "stream",
     "text": [
      "        Degree         MAE   R-Squared      MAPE\n",
      "0     0.000000   66.045624   -0.027506  0.623622\n",
      "1     1.000000   44.276499    0.482316  0.394860\n",
      "2     2.000000   46.612882    0.391502  0.402669\n",
      "3     3.000000  342.632418 -182.365458  2.324375\n",
      "4     4.000000  303.158461  -70.667516  2.453685\n",
      "5     5.000000  295.686026  -67.387407  2.405233\n",
      "6     6.000000  295.631865  -67.447482  2.404954\n",
      "7     7.000000  295.630403  -67.448529  2.404952\n",
      "8     8.000000  295.579342  -67.442147  2.404576\n",
      "Mean  4.000000  220.583724  -57.990247  1.757658\n",
      "Std   2.738613  127.218077   57.198774  0.965706\n"
     ]
    }
   ],
   "source": [
    "mean_values = df.mean()\n",
    "std_values = df.std()\n",
    "\n",
    "# Add rows for mean and standard deviation values in the dataframe\n",
    "df.loc['Mean'] = mean_values\n",
    "df.loc['Std'] = std_values\n",
    "\n",
    "# Print the table summarizing the cross-validation results\n",
    "print(df)"
   ]
  },
  {
   "cell_type": "markdown",
   "metadata": {},
   "source": [
    "#### Identification of the Best Model"
   ]
  },
  {
   "cell_type": "markdown",
   "metadata": {},
   "source": [
    "Looking at the results, the best model appears to be the one with degree 1. \n",
    "<br><br>\n",
    "The R-squared metric determines the percentage of the response variable variation explained by the model. In other words, the higher the R-squared, the better the model fits your data. The model with degree 1 has the highest R-squared value (0.482316) among all the other models, indicating that it explains the most variance in the prediction.\n",
    "<br><br>\n",
    "MAE (Mean Absolute Error) measures the average magnitude of the errors in a set of predictions without considering their direction. It’s the average of absolute differences between forecast and actual observation over the test sample, where all individual differences have equal weight. The model with degree 1 has the lowest MAE value (44.276499), which means it has the most minor prediction errors.\n",
    "<br><br>\n",
    "MAPE (Mean Absolute Percentage Error) measures the size of the error in percentage terms. It is calculated as the average of the unsigned percentage error. Similar to MAE, lower values are better. The degree 1 model has the lowest MAPE (0.394860), suggesting it has the most minor relative prediction errors."
   ]
  },
  {
   "cell_type": "markdown",
   "metadata": {},
   "source": [
    "#### Additional analysis and interpretation of the models' performances."
   ]
  },
  {
   "cell_type": "markdown",
   "metadata": {},
   "source": [
    "Looking at the data, it seems that as the degree of the model increases beyond 1, the MAE, R-squared, and MAPE values worsen significantly, indicating overfitting. This suggests that the model with higher degrees is too complex and is capturing the noise along with the underlying pattern in the data. This can negatively impact the generalization of the model on unseen data.\n",
    "<br><br>\n",
    "The model seems to underfit when the degree is 0, implying it's too simple to capture necessary information from the data.\n",
    "<br><br>\n",
    "The degree 1 model provides a balanced complexity, ensuring it could explain the most variance in the data set without significantly increasing error. However, while the degree 1 model is the best among the models examined, it is worth mentioning that an R-Squared value of approximately 0.48 is not exceptionally high, hence there might be room for improvement"
   ]
  },
  {
   "cell_type": "code",
   "execution_count": null,
   "metadata": {},
   "outputs": [],
   "source": []
  }
 ],
 "metadata": {
  "kernelspec": {
   "display_name": "venv",
   "language": "python",
   "name": "python3"
  },
  "language_info": {
   "codemirror_mode": {
    "name": "ipython",
    "version": 3
   },
   "file_extension": ".py",
   "mimetype": "text/x-python",
   "name": "python",
   "nbconvert_exporter": "python",
   "pygments_lexer": "ipython3",
   "version": "3.10.10"
  }
 },
 "nbformat": 4,
 "nbformat_minor": 2
}
