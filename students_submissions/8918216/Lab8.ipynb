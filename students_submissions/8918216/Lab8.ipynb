{
  "nbformat": 4,
  "nbformat_minor": 0,
  "metadata": {
    "colab": {
      "provenance": []
    },
    "kernelspec": {
      "name": "python3",
      "display_name": "Python 3"
    },
    "language_info": {
      "name": "python"
    }
  },
  "cells": [
    {
      "cell_type": "markdown",
      "source": [
        "Name: Dharmik Kakadiya<br>Student ID: 8918216"
      ],
      "metadata": {
        "id": "vCma1dx4KyML"
      }
    },
    {
      "cell_type": "markdown",
      "source": [
        "**Using PyTorch**"
      ],
      "metadata": {
        "id": "Qb0uUsNzLC_y"
      }
    },
    {
      "cell_type": "code",
      "execution_count": 1,
      "metadata": {
        "id": "C-gGmXmHKr_x"
      },
      "outputs": [],
      "source": [
        "import torch"
      ]
    },
    {
      "cell_type": "code",
      "source": [
        "# Calculate the dot product between two vectors each of length 3\n",
        "vector1 = torch.tensor([1.0, 2.0, 3.0])\n",
        "vector2 = torch.tensor([4.0, 5.0, 6.0])\n",
        "dot_product = torch.dot(vector1, vector2)\n",
        "print(\"Dot Product (PyTorch):\", dot_product.item())"
      ],
      "metadata": {
        "colab": {
          "base_uri": "https://localhost:8080/"
        },
        "id": "YQsUTb1CLGxU",
        "outputId": "1006976a-1d0b-4cdf-aecd-78c8a0e26b40"
      },
      "execution_count": 4,
      "outputs": [
        {
          "output_type": "stream",
          "name": "stdout",
          "text": [
            "Dot Product (PyTorch): 32.0\n"
          ]
        }
      ]
    },
    {
      "cell_type": "code",
      "source": [
        "# Calculate the matrix multiplication of two 2-dimensional matrices, each with a size of (2,2)\n",
        "matrix1 = torch.tensor([[1.0, 2.0], [3.0, 4.0]])\n",
        "matrix2 = torch.tensor([[5.0, 6.0], [7.0, 8.0]])\n",
        "matrix_product = torch.mm(matrix1, matrix2)\n",
        "print(\"Matrix Multiplication (PyTorch):\\n\", matrix_product)"
      ],
      "metadata": {
        "colab": {
          "base_uri": "https://localhost:8080/"
        },
        "id": "QesYi87OLL-o",
        "outputId": "23075dcf-4e96-497d-ccc2-b822539769de"
      },
      "execution_count": 5,
      "outputs": [
        {
          "output_type": "stream",
          "name": "stdout",
          "text": [
            "Matrix Multiplication (PyTorch):\n",
            " tensor([[19., 22.],\n",
            "        [43., 50.]])\n"
          ]
        }
      ]
    },
    {
      "cell_type": "markdown",
      "source": [
        "**Using Tensorflow**"
      ],
      "metadata": {
        "id": "jKUch48GLWlg"
      }
    },
    {
      "cell_type": "code",
      "source": [
        "import tensorflow as tf"
      ],
      "metadata": {
        "id": "jhNKGA_DLNYP"
      },
      "execution_count": 6,
      "outputs": []
    },
    {
      "cell_type": "code",
      "source": [
        "# Define the vectors using TensorFlow\n",
        "vector1_tf = tf.constant([1.0, 2.0, 3.0], dtype=tf.float32)\n",
        "vector2_tf = tf.constant([4.0, 5.0, 6.0], dtype=tf.float32)"
      ],
      "metadata": {
        "id": "m8iCZIwxLcd3"
      },
      "execution_count": 7,
      "outputs": []
    },
    {
      "cell_type": "code",
      "source": [
        "# Calculate the dot product\n",
        "dot_product_tf = tf.tensordot(vector1_tf, vector2_tf, axes=1)\n",
        "print(\"Dot Product (TensorFlow):\", dot_product_tf.numpy())"
      ],
      "metadata": {
        "colab": {
          "base_uri": "https://localhost:8080/"
        },
        "id": "gaLDbY9oLeoq",
        "outputId": "9f1d2ebd-d44b-4836-c4f6-e228fd3ef457"
      },
      "execution_count": 9,
      "outputs": [
        {
          "output_type": "stream",
          "name": "stdout",
          "text": [
            "Dot Product (TensorFlow): 32.0\n"
          ]
        }
      ]
    },
    {
      "cell_type": "code",
      "source": [
        "# Define the matrices using TensorFlow\n",
        "matrix1_tf = tf.constant([[1.0, 2.0], [3.0, 4.0]], dtype=tf.float32)\n",
        "matrix2_tf = tf.constant([[5.0, 6.0], [7.0, 8.0]], dtype=tf.float32)"
      ],
      "metadata": {
        "id": "inR_YGxELitb"
      },
      "execution_count": 10,
      "outputs": []
    },
    {
      "cell_type": "code",
      "source": [
        "# Calculate the matrix multiplication\n",
        "matrix_product_tf = tf.matmul(matrix1_tf, matrix2_tf)\n",
        "print(\"Matrix Multiplication (TensorFlow):\\n\", matrix_product_tf.numpy())"
      ],
      "metadata": {
        "colab": {
          "base_uri": "https://localhost:8080/"
        },
        "id": "cDR-Nd6jLnV9",
        "outputId": "c9e07b44-f0eb-44c6-8ab2-e890b3b8fcad"
      },
      "execution_count": 11,
      "outputs": [
        {
          "output_type": "stream",
          "name": "stdout",
          "text": [
            "Matrix Multiplication (TensorFlow):\n",
            " [[19. 22.]\n",
            " [43. 50.]]\n"
          ]
        }
      ]
    },
    {
      "cell_type": "code",
      "source": [],
      "metadata": {
        "id": "1fym2HIbLsLv"
      },
      "execution_count": null,
      "outputs": []
    }
  ]
}