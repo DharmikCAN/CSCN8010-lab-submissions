{
  "cells": [
    {
      "cell_type": "markdown",
      "metadata": {
        "id": "n2a-cHJuqP_W"
      },
      "source": [
        "Name: Dharmik Kakadiya<br>Student ID: 8918216"
      ]
    },
    {
      "cell_type": "markdown",
      "metadata": {
        "id": "N54l3lOWqS-F"
      },
      "source": [
        "# Lab 9 - Dense Neural Network"
      ]
    },
    {
      "cell_type": "markdown",
      "metadata": {
        "id": "yvrzmM62qUlP"
      },
      "source": [
        "#### 1. Using Keras Datasets, obtain the fMNIST data set. Explore and describe it as you would do with any new dataset that you start working with."
      ]
    },
    {
      "cell_type": "code",
      "execution_count": 14,
      "metadata": {
        "id": "-dzuRSxmqNkK"
      },
      "outputs": [],
      "source": [
        "from tensorflow.keras.datasets import fashion_mnist"
      ]
    },
    {
      "cell_type": "code",
      "execution_count": 15,
      "metadata": {
        "id": "_MJR5HyWqX_D"
      },
      "outputs": [],
      "source": [
        "(train_images, train_labels), (test_images, test_labels) = fashion_mnist.load_data()"
      ]
    },
    {
      "cell_type": "code",
      "execution_count": 16,
      "metadata": {
        "colab": {
          "base_uri": "https://localhost:8080/"
        },
        "id": "a_ixANmdqd89",
        "outputId": "0e68725a-307a-4d39-f95a-9db42863fccc"
      },
      "outputs": [
        {
          "name": "stdout",
          "output_type": "stream",
          "text": [
            "Training data shape: (60000, 28, 28)\n",
            "Training labels shape: (60000,)\n",
            "Test data shape: (10000, 28, 28)\n",
            "Test labels shape: (10000,)\n"
          ]
        }
      ],
      "source": [
        "print(\"Training data shape:\", train_images.shape)\n",
        "print(\"Training labels shape:\", train_labels.shape)\n",
        "print(\"Test data shape:\", test_images.shape)\n",
        "print(\"Test labels shape:\", test_labels.shape)"
      ]
    },
    {
      "cell_type": "code",
      "execution_count": 17,
      "metadata": {
        "colab": {
          "base_uri": "https://localhost:8080/"
        },
        "id": "JsMO5cIHsu92",
        "outputId": "f4523ca3-74e9-4b20-ff72-e0f308748ad2"
      },
      "outputs": [
        {
          "name": "stdout",
          "output_type": "stream",
          "text": [
            "Number of classes: 10\n"
          ]
        }
      ],
      "source": [
        "# Check the number of unique labels\n",
        "num_classes = len(set(train_labels))\n",
        "print(\"Number of classes:\", num_classes)"
      ]
    },
    {
      "cell_type": "code",
      "execution_count": 18,
      "metadata": {
        "colab": {
          "base_uri": "https://localhost:8080/",
          "height": 452
        },
        "id": "5EFx1MNdsxW-",
        "outputId": "4eb59693-34c6-4db0-b6d4-75f92ebc75f2"
      },
      "outputs": [
        {
          "data": {
            "image/png": "[encoded data removed]",
            "text/plain": [
              "<Figure size 640x480 with 1 Axes>"
            ]
          },
          "metadata": {},
          "output_type": "display_data"
        }
      ],
      "source": [
        "# Visualize the first image in the dataset\n",
        "import matplotlib.pyplot as plt\n",
        "\n",
        "plt.imshow(train_images[0], cmap='gray')\n",
        "plt.title(f\"Label: {train_labels[0]}\")\n",
        "plt.show()"
      ]
    },
    {
      "cell_type": "code",
      "execution_count": 19,
      "metadata": {
        "id": "D5Ga7hNfs-3m"
      },
      "outputs": [],
      "source": [
        "# Normalize the images to [0, 1] range\n",
        "train_images = train_images / 255.0\n",
        "test_images = test_images / 255.0"
      ]
    },
    {
      "cell_type": "code",
      "execution_count": 20,
      "metadata": {
        "id": "BuhETsHys-gw"
      },
      "outputs": [],
      "source": [
        "# Flatten the images\n",
        "train_images = train_images.reshape((train_images.shape[0], -1))\n",
        "test_images = test_images.reshape((test_images.shape[0], -1))"
      ]
    },
    {
      "cell_type": "code",
      "execution_count": 21,
      "metadata": {
        "id": "bEAOdgs_tHTU"
      },
      "outputs": [],
      "source": [
        "# Convert labels to one-hot encoding\n",
        "from tensorflow.keras.utils import to_categorical\n",
        "\n",
        "train_labels = to_categorical(train_labels, num_classes)\n",
        "test_labels = to_categorical(test_labels, num_classes)"
      ]
    },
    {
      "cell_type": "markdown",
      "metadata": {
        "id": "_XKMjdB_qjVy"
      },
      "source": [
        "#### 2. Train a Dense Neural Network with Different Hyperparameter Configurations"
      ]
    },
    {
      "cell_type": "code",
      "execution_count": 22,
      "metadata": {
        "id": "uWALVirYqgFV"
      },
      "outputs": [],
      "source": [
        "from tensorflow.keras.models import Sequential\n",
        "from tensorflow.keras.layers import Dense\n",
        "from tensorflow.keras.optimizers import Adam"
      ]
    },
    {
      "cell_type": "code",
      "execution_count": 23,
      "metadata": {
        "id": "TuD1-YHoqlZc"
      },
      "outputs": [],
      "source": [
        "def create_model(layers, activation, optimizer):\n",
        "    model = Sequential()\n",
        "    for size in layers:\n",
        "        model.add(Dense(size, activation=activation))\n",
        "    model.add(Dense(num_classes, activation='softmax'))\n",
        "    model.compile(optimizer=optimizer, loss='categorical_crossentropy', metrics=['accuracy'])\n",
        "    return model"
      ]
    },
    {
      "cell_type": "code",
      "execution_count": 24,
      "metadata": {
        "colab": {
          "base_uri": "https://localhost:8080/"
        },
        "id": "mpDFsWS7qmns",
        "outputId": "c5379987-5b33-46c8-bbdf-89bd1991bcbd"
      },
      "outputs": [
        {
          "name": "stdout",
          "output_type": "stream",
          "text": [
            "Epoch 1/10\n",
            "375/375 [==============================] - 2s 3ms/step - loss: 0.6281 - accuracy: 0.7832 - val_loss: 0.4829 - val_accuracy: 0.8242\n",
            "Epoch 2/10\n",
            "375/375 [==============================] - 1s 3ms/step - loss: 0.4244 - accuracy: 0.8496 - val_loss: 0.4058 - val_accuracy: 0.8550\n",
            "Epoch 3/10\n",
            "375/375 [==============================] - 1s 3ms/step - loss: 0.3841 - accuracy: 0.8624 - val_loss: 0.3840 - val_accuracy: 0.8619\n",
            "Epoch 4/10\n",
            "375/375 [==============================] - 1s 3ms/step - loss: 0.3592 - accuracy: 0.8697 - val_loss: 0.3721 - val_accuracy: 0.8662\n",
            "Epoch 5/10\n",
            "375/375 [==============================] - 1s 3ms/step - loss: 0.3390 - accuracy: 0.8764 - val_loss: 0.3590 - val_accuracy: 0.8699\n",
            "Epoch 6/10\n",
            "375/375 [==============================] - 1s 3ms/step - loss: 0.3262 - accuracy: 0.8818 - val_loss: 0.3617 - val_accuracy: 0.8684\n",
            "Epoch 7/10\n",
            "375/375 [==============================] - 1s 3ms/step - loss: 0.3095 - accuracy: 0.8871 - val_loss: 0.3586 - val_accuracy: 0.8753\n",
            "Epoch 8/10\n",
            "375/375 [==============================] - 1s 3ms/step - loss: 0.2976 - accuracy: 0.8904 - val_loss: 0.3380 - val_accuracy: 0.8804\n",
            "Epoch 9/10\n",
            "375/375 [==============================] - 1s 3ms/step - loss: 0.2900 - accuracy: 0.8942 - val_loss: 0.3354 - val_accuracy: 0.8808\n",
            "Epoch 10/10\n",
            "375/375 [==============================] - 1s 3ms/step - loss: 0.2789 - accuracy: 0.8980 - val_loss: 0.3318 - val_accuracy: 0.8828\n"
          ]
        }
      ],
      "source": [
        "# Configuration 1\n",
        "model1 = create_model(layers=[64, 64], activation='relu', optimizer=Adam())\n",
        "history1 = model1.fit(train_images, train_labels, epochs=10, batch_size=128, validation_split=0.2)"
      ]
    },
    {
      "cell_type": "code",
      "execution_count": 25,
      "metadata": {
        "colab": {
          "base_uri": "https://localhost:8080/"
        },
        "id": "EDbKNVbGtUTb",
        "outputId": "23c96804-c137-4e6b-f461-0e32f3241d0b"
      },
      "outputs": [
        {
          "name": "stdout",
          "output_type": "stream",
          "text": [
            "Epoch 1/10\n",
            "375/375 [==============================] - 2s 5ms/step - loss: 0.5647 - accuracy: 0.8069 - val_loss: 0.4555 - val_accuracy: 0.8390\n",
            "Epoch 2/10\n",
            "375/375 [==============================] - 2s 5ms/step - loss: 0.4036 - accuracy: 0.8576 - val_loss: 0.3968 - val_accuracy: 0.8577\n",
            "Epoch 3/10\n",
            "375/375 [==============================] - 1s 3ms/step - loss: 0.3569 - accuracy: 0.8714 - val_loss: 0.3723 - val_accuracy: 0.8680\n",
            "Epoch 4/10\n",
            "375/375 [==============================] - 1s 3ms/step - loss: 0.3367 - accuracy: 0.8779 - val_loss: 0.3551 - val_accuracy: 0.8708\n",
            "Epoch 5/10\n",
            "375/375 [==============================] - 1s 4ms/step - loss: 0.3126 - accuracy: 0.8853 - val_loss: 0.3508 - val_accuracy: 0.8748\n",
            "Epoch 6/10\n",
            "375/375 [==============================] - 1s 3ms/step - loss: 0.2966 - accuracy: 0.8910 - val_loss: 0.3360 - val_accuracy: 0.8784\n",
            "Epoch 7/10\n",
            "375/375 [==============================] - 1s 3ms/step - loss: 0.2805 - accuracy: 0.8968 - val_loss: 0.3311 - val_accuracy: 0.8811\n",
            "Epoch 8/10\n",
            "375/375 [==============================] - 1s 3ms/step - loss: 0.2741 - accuracy: 0.8983 - val_loss: 0.3363 - val_accuracy: 0.8787\n",
            "Epoch 9/10\n",
            "375/375 [==============================] - 1s 4ms/step - loss: 0.2600 - accuracy: 0.9030 - val_loss: 0.3446 - val_accuracy: 0.8767\n",
            "Epoch 10/10\n",
            "375/375 [==============================] - 2s 5ms/step - loss: 0.2584 - accuracy: 0.9035 - val_loss: 0.3153 - val_accuracy: 0.8833\n"
          ]
        }
      ],
      "source": [
        "# Configuration 2\n",
        "model2 = create_model(layers=[128, 64], activation='relu', optimizer=Adam())\n",
        "history2 = model2.fit(train_images, train_labels, epochs=10, batch_size=128, validation_split=0.2)"
      ]
    },
    {
      "cell_type": "code",
      "execution_count": 26,
      "metadata": {
        "colab": {
          "base_uri": "https://localhost:8080/"
        },
        "id": "jvOHW4QYtVyU",
        "outputId": "88fa0f15-0d05-42c5-877f-e0adff973e14"
      },
      "outputs": [
        {
          "name": "stdout",
          "output_type": "stream",
          "text": [
            "Epoch 1/10\n",
            "375/375 [==============================] - 2s 4ms/step - loss: 0.5703 - accuracy: 0.7996 - val_loss: 0.4348 - val_accuracy: 0.8439\n",
            "Epoch 2/10\n",
            "375/375 [==============================] - 2s 5ms/step - loss: 0.3898 - accuracy: 0.8594 - val_loss: 0.3818 - val_accuracy: 0.8586\n",
            "Epoch 3/10\n",
            "375/375 [==============================] - 2s 5ms/step - loss: 0.3490 - accuracy: 0.8722 - val_loss: 0.3527 - val_accuracy: 0.8694\n",
            "Epoch 4/10\n",
            "375/375 [==============================] - 2s 5ms/step - loss: 0.3232 - accuracy: 0.8812 - val_loss: 0.3527 - val_accuracy: 0.8716\n",
            "Epoch 5/10\n",
            "375/375 [==============================] - 2s 4ms/step - loss: 0.3056 - accuracy: 0.8868 - val_loss: 0.3710 - val_accuracy: 0.8633\n",
            "Epoch 6/10\n",
            "375/375 [==============================] - 2s 4ms/step - loss: 0.2861 - accuracy: 0.8935 - val_loss: 0.3239 - val_accuracy: 0.8839\n",
            "Epoch 7/10\n",
            "375/375 [==============================] - 1s 4ms/step - loss: 0.2749 - accuracy: 0.8971 - val_loss: 0.3263 - val_accuracy: 0.8833\n",
            "Epoch 8/10\n",
            "375/375 [==============================] - 2s 4ms/step - loss: 0.2615 - accuracy: 0.9019 - val_loss: 0.3197 - val_accuracy: 0.8832\n",
            "Epoch 9/10\n",
            "375/375 [==============================] - 1s 4ms/step - loss: 0.2511 - accuracy: 0.9061 - val_loss: 0.3307 - val_accuracy: 0.8852\n",
            "Epoch 10/10\n",
            "375/375 [==============================] - 1s 4ms/step - loss: 0.2425 - accuracy: 0.9093 - val_loss: 0.3102 - val_accuracy: 0.8890\n"
          ]
        }
      ],
      "source": [
        "# Configuration 3\n",
        "model3 = create_model(layers=[128, 128, 64], activation='relu', optimizer=Adam())\n",
        "history3 = model3.fit(train_images, train_labels, epochs=10, batch_size=128, validation_split=0.2)"
      ]
    },
    {
      "cell_type": "markdown",
      "metadata": {
        "id": "DIYpEWH8qwB2"
      },
      "source": [
        "#### 3. Evaluate the Models and Choose the Best Configuration"
      ]
    },
    {
      "cell_type": "code",
      "execution_count": 27,
      "metadata": {
        "colab": {
          "base_uri": "https://localhost:8080/"
        },
        "id": "oPGcPi8hqpXp",
        "outputId": "c228a123-192a-4821-ce98-c6094eea449c"
      },
      "outputs": [
        {
          "name": "stdout",
          "output_type": "stream",
          "text": [
            "313/313 [==============================] - 0s 1ms/step - loss: 0.3546 - accuracy: 0.8770\n",
            "313/313 [==============================] - 0s 1ms/step - loss: 0.3423 - accuracy: 0.8789\n",
            "313/313 [==============================] - 0s 1ms/step - loss: 0.3272 - accuracy: 0.8839\n"
          ]
        }
      ],
      "source": [
        "# Evaluate each model\n",
        "accuracy1 = model1.evaluate(test_images, test_labels)[1]\n",
        "accuracy2 = model2.evaluate(test_images, test_labels)[1]\n",
        "accuracy3 = model3.evaluate(test_images, test_labels)[1]"
      ]
    },
    {
      "cell_type": "code",
      "execution_count": 28,
      "metadata": {
        "colab": {
          "base_uri": "https://localhost:8080/"
        },
        "id": "cTxiJSlwqz1V",
        "outputId": "5426b4da-7611-47b6-c237-54184cf46a96"
      },
      "outputs": [
        {
          "name": "stdout",
          "output_type": "stream",
          "text": [
            "Accuracy of model 1: 0.8769999742507935\n",
            "Accuracy of model 2: 0.8788999915122986\n",
            "Accuracy of model 3: 0.883899986743927\n"
          ]
        }
      ],
      "source": [
        "print(f\"Accuracy of model 1: {accuracy1}\")\n",
        "print(f\"Accuracy of model 2: {accuracy2}\")\n",
        "print(f\"Accuracy of model 3: {accuracy3}\")"
      ]
    },
    {
      "cell_type": "code",
      "execution_count": 29,
      "metadata": {
        "id": "Zo7QEh_Rq1UA"
      },
      "outputs": [],
      "source": [
        "best_model = model3"
      ]
    },
    {
      "cell_type": "code",
      "execution_count": 30,
      "metadata": {
        "id": "0r_tZHzMrCIJ"
      },
      "outputs": [],
      "source": [
        "from sklearn.metrics import confusion_matrix\n",
        "import numpy as np"
      ]
    },
    {
      "cell_type": "code",
      "execution_count": 31,
      "metadata": {
        "colab": {
          "base_uri": "https://localhost:8080/"
        },
        "id": "ivfswOcNuG71",
        "outputId": "27fb2286-19fd-4857-e6f1-df376b214771"
      },
      "outputs": [
        {
          "name": "stdout",
          "output_type": "stream",
          "text": [
            "313/313 [==============================] - 1s 2ms/step\n"
          ]
        }
      ],
      "source": [
        "# Predict the values from the test dataset\n",
        "test_pred = best_model.predict(test_images)\n",
        "test_pred_classes = np.argmax(test_pred, axis=1)\n",
        "test_true_classes = np.argmax(test_labels, axis=1)"
      ]
    },
    {
      "cell_type": "code",
      "execution_count": 32,
      "metadata": {
        "colab": {
          "base_uri": "https://localhost:8080/"
        },
        "id": "rX4JijJ1uIWU",
        "outputId": "1bf5705e-4544-4b16-a582-80c6e679b389"
      },
      "outputs": [
        {
          "name": "stdout",
          "output_type": "stream",
          "text": [
            "Confusion Matrix:\n",
            "[[822   2  15  26   5   0 124   0   6   0]\n",
            " [  1 967   1  25   4   0   1   0   1   0]\n",
            " [  9   0 801  18  83   0  87   0   2   0]\n",
            " [ 12   7  10 903  42   0  23   0   3   0]\n",
            " [  1   1 117  23 808   0  50   0   0   0]\n",
            " [  0   0   0   1   0 958   0  27   3  11]\n",
            " [108   1  72  37  69   0 702   0  11   0]\n",
            " [  0   0   0   0   0  13   0 959   2  26]\n",
            " [  3   0   5   6   7   1   5   3 970   0]\n",
            " [  1   0   0   0   0  10   1  39   0 949]]\n"
          ]
        }
      ],
      "source": [
        "# Compute the confusion matrix\n",
        "conf_matrix = confusion_matrix(test_true_classes, test_pred_classes)\n",
        "\n",
        "print(\"Confusion Matrix:\")\n",
        "print(conf_matrix)"
      ]
    },
    {
      "cell_type": "code",
      "execution_count": 33,
      "metadata": {
        "colab": {
          "base_uri": "https://localhost:8080/",
          "height": 1000
        },
        "id": "5AIk5bVMuKnF",
        "outputId": "da96b815-1f1e-4515-e1fa-41ae824d7934"
      },
      "outputs": [
        {
          "data": {
            "image/png": "[encoded data removed]",
            "text/plain": [
              "<Figure size 640x480 with 1 Axes>"
            ]
          },
          "metadata": {},
          "output_type": "display_data"
        },
        {
          "data": {
            "image/png": "[encoded data removed]",
            "text/plain": [
              "<Figure size 640x480 with 1 Axes>"
            ]
          },
          "metadata": {},
          "output_type": "display_data"
        },
        {
          "data": {
            "image/png": "[encoded data removed]",
            "text/plain": [
              "<Figure size 640x480 with 1 Axes>"
            ]
          },
          "metadata": {},
          "output_type": "display_data"
        },
        {
          "data": {
            "image/png": "[encoded data removed]",
            "text/plain": [
              "<Figure size 640x480 with 1 Axes>"
            ]
          },
          "metadata": {},
          "output_type": "display_data"
        },
        {
          "data": {
            "image/png": "[encoded data removed]",
            "text/plain": [
              "<Figure size 640x480 with 1 Axes>"
            ]
          },
          "metadata": {},
          "output_type": "display_data"
        }
      ],
      "source": [
        "# Show some incorrect classifications\n",
        "incorrect_indices = np.where(test_pred_classes != test_true_classes)[0]\n",
        "for i, incorrect in enumerate(incorrect_indices[:5]):\n",
        "    plt.figure()\n",
        "    plt.imshow(test_images[incorrect].reshape(28, 28), cmap='gray')\n",
        "    plt.title(f\"Predicted: {test_pred_classes[incorrect]}, True: {test_true_classes[incorrect]}\")\n",
        "    plt.show()"
      ]
    },
    {
      "cell_type": "markdown",
      "metadata": {
        "id": "uOoHtR8_uPRh"
      },
      "source": [
        "Conlusion:\n",
        "- The model is quite good at predicting some classes, such as class 1 (Trouser), with 967 correct predictions out of 1000.\n",
        "- The model often confuses certain classes with each other. For example, class 6 (Shirt) often needs to be clarified with class 0 (T-shirt/top), class 2 (Pullover), and class 4 (Coat).\n",
        "- Some classes have many correct predictions, such as class 1 (Trouser) and class 7 (Sneaker), indicating that the model can distinguish these items well.\n",
        "- The model could better distinguish between items with similar shapes and features, such as T-shirts/tops, Shirts, Pullovers, and Coats."
      ]
    },
    {
      "cell_type": "code",
      "execution_count": null,
      "metadata": {
        "id": "Mg7iS9Q4uMFX"
      },
      "outputs": [],
      "source": []
    }
  ],
  "metadata": {
    "colab": {
      "provenance": []
    },
    "kernelspec": {
      "display_name": "Python 3",
      "name": "python3"
    },
    "language_info": {
      "name": "python",
      "version": "3.10.10"
    }
  },
  "nbformat": 4,
  "nbformat_minor": 0
}
